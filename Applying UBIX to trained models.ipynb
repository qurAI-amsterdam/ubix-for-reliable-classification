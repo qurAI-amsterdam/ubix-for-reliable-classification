{
 "cells": [
  {
   "cell_type": "markdown",
   "metadata": {},
   "source": [
    "# Applying UBIX to trained models"
   ]
  },
  {
   "cell_type": "markdown",
   "metadata": {},
   "source": [
    "This notebook describes both how to predict using already trained models and how to insert UBIX during the prediction of these trained models."
   ]
  },
  {
   "cell_type": "code",
   "execution_count": null,
   "metadata": {},
   "outputs": [],
   "source": [
    "# !pip3 install -e ."
   ]
  },
  {
   "cell_type": "code",
   "execution_count": null,
   "metadata": {},
   "outputs": [],
   "source": [
    "import os\n",
    "\n",
    "os.environ[\"WANDB_SILENT\"] = \"true\"\n",
    "os.environ['WANDB_NOTEBOOK_NAME'] = 'Applying UBIX to trained models'\n",
    "os.environ[\"WANDB_CONSOLE\"] = \"off\" \n",
    "os.environ[\"WANDB_MODE\"] = \"dryrun\"\n",
    "\n",
    "from ubix.ubix_class import UBIX\n",
    "from ubix.utils import set_random_seeds\n",
    "from ubix.uncertainty.deep_ensemble import deep_ensemble\n",
    "from ubix.predict import Predict\n",
    "\n",
    "from ubix.metrics import quadratic_weighted_kappa\n",
    "\n",
    "set_random_seeds(seed=0)"
   ]
  },
  {
   "cell_type": "code",
   "execution_count": null,
   "metadata": {},
   "outputs": [],
   "source": [
    "import warnings\n",
    "warnings.filterwarnings(\"ignore\", category=DeprecationWarning)"
   ]
  },
  {
   "cell_type": "markdown",
   "metadata": {},
   "source": [
    "## Model prediction (without UBIX)"
   ]
  },
  {
   "cell_type": "markdown",
   "metadata": {},
   "source": [
    "Generally, we use the workflow of first predicting with already trained models, without UBIX. This saves the predictions (including the instance-level predictions), which will be used later by our UBIX modules. In this way, do not have to run the instance-level classifier again each time we want to use different UBIX variant (e.g., UBIX<sub>hard</sub> or UBIX<sub>soft</sub>, but also with different uncerainty estimation measures and techniques)."
   ]
  },
  {
   "cell_type": "markdown",
   "metadata": {},
   "source": [
    "Let's load in an already trained model. In this example, we use a model pretrained by us (the weights will be loaded from a publicly available URL described in `ubix/public_models_urls.json`). However, you can also simply use a model name of a model that you trained."
   ]
  },
  {
   "cell_type": "code",
   "execution_count": null,
   "metadata": {},
   "outputs": [],
   "source": [
    "model_name = \"pretrained-maxpooling\""
   ]
  },
  {
   "cell_type": "markdown",
   "metadata": {},
   "source": [
    "And here, provide the path to the data that you would like to predict. How to prepare your data is described in the `README.md` file of this repository."
   ]
  },
  {
   "cell_type": "code",
   "execution_count": null,
   "metadata": {},
   "outputs": [],
   "source": [
    "data_root = 'ubix-dummy-data'"
   ]
  },
  {
   "cell_type": "markdown",
   "metadata": {},
   "source": [
    "Now, we perform the prediction of the trained deep ensemble, for both the validation and test set. Here, replace `data_root` the path to the data that you would like to predict."
   ]
  },
  {
   "cell_type": "code",
   "execution_count": null,
   "metadata": {},
   "outputs": [],
   "source": [
    "for predict_set in ['test']:  # If you only have test data, use ['test'], otherwise use ['val', 'test']\n",
    "    deep_ensemble(\n",
    "        model_base_name=model_name,\n",
    "        model_type=\"best_quadratic_weighted_kappa\",\n",
    "        n_its=5,\n",
    "        load_from_file=False,\n",
    "        predict_set=predict_set,\n",
    "        change_config={\n",
    "            'data_root': data_root,\n",
    "            'num_workers': 0\n",
    "        }\n",
    "    )"
   ]
  },
  {
   "cell_type": "code",
   "execution_count": null,
   "metadata": {},
   "outputs": [],
   "source": [
    "predictor = Predict(\n",
    "    model_name=model_name,\n",
    "    model_type=\"best_quadratic_weighted_kappa\",\n",
    "    do_not_load_model=True,\n",
    "    change_config={\n",
    "        'data_root': data_root,\n",
    "        'num_workers': 0\n",
    "    }\n",
    ")"
   ]
  },
  {
   "cell_type": "code",
   "execution_count": null,
   "metadata": {},
   "outputs": [],
   "source": [
    "predictions_postfix = \"_deep_ensemble_5_mean\"\n",
    "predictions = predictor.predict_test_set(load_from_file=True, predictions_postfix=predictions_postfix)"
   ]
  },
  {
   "cell_type": "markdown",
   "metadata": {},
   "source": [
    "Prediction outcomes are now saved in the `predictions` variable.\n",
    "\n",
    "For example, `predictions['y_pred']` contains logit outputs:"
   ]
  },
  {
   "cell_type": "code",
   "execution_count": null,
   "metadata": {},
   "outputs": [],
   "source": [
    "predictions['y_pred']"
   ]
  },
  {
   "cell_type": "markdown",
   "metadata": {},
   "source": [
    "And the predicted classes can be determined as follows:"
   ]
  },
  {
   "cell_type": "code",
   "execution_count": null,
   "metadata": {},
   "outputs": [],
   "source": [
    "predictions['y_pred'].argmax(-1)"
   ]
  },
  {
   "cell_type": "markdown",
   "metadata": {},
   "source": [
    "Now you can calculate metrics such as the quadratic weighted kappa score:"
   ]
  },
  {
   "cell_type": "code",
   "execution_count": null,
   "metadata": {},
   "outputs": [],
   "source": [
    "quadratic_weighted_kappa(predictions['y_true'], predictions['y_pred'])"
   ]
  },
  {
   "cell_type": "markdown",
   "metadata": {},
   "source": [
    "## Model prediction with UBIX"
   ]
  },
  {
   "cell_type": "markdown",
   "metadata": {},
   "source": [
    "You can either use the UBIX parameters that were determined with our validation set, or you can optimize UBIX using your own dataset.\n",
    "\n",
    "We first show how to use our UBIX parameters (optimized using the dataset H<sub>val</sub>, as described in the paper)."
   ]
  },
  {
   "cell_type": "code",
   "execution_count": null,
   "metadata": {},
   "outputs": [],
   "source": [
    "ubix_type = \"hard\"  # other option: \"soft\"\n",
    "uncertainty_measure = \"ordinal_entropy\"  # other options include: \"entropy\", \"max_logit_max0th_confidence\", \"confidence\", \"variance\", \"ordinal_variance\" \n",
    "\n",
    "save_path = f\"./results/models/{model_name}/ubix_params_hval_{ubix_type}{predictions_postfix}_{uncertainty_measure}.p\"\n",
    "\n",
    "ubix_module = UBIX(ubix_type=ubix_type, uncertainty_measure=uncertainty_measure)\n",
    "ubix_module.load_ubix_parameters(save_path);"
   ]
  },
  {
   "cell_type": "code",
   "execution_count": null,
   "metadata": {},
   "outputs": [],
   "source": [
    "y_pred_ubix = ubix_module.predict(\n",
    "    predictor, predict_set=\"test\", predictions_postfix=predictions_postfix\n",
    ")"
   ]
  },
  {
   "cell_type": "code",
   "execution_count": null,
   "metadata": {},
   "outputs": [],
   "source": [
    "quadratic_weighted_kappa(predictions['y_true'], y_pred_ubix)"
   ]
  },
  {
   "cell_type": "markdown",
   "metadata": {},
   "source": [
    "To optimize with a new dataset, use the `UBIX.optimize_ubix_parameters` function as follows:"
   ]
  },
  {
   "cell_type": "code",
   "execution_count": null,
   "metadata": {},
   "outputs": [],
   "source": [
    "optimization_predictor = Predict(\n",
    "    model_name=model_name,\n",
    "    model_type=\"best_quadratic_weighted_kappa\",\n",
    "    do_not_load_model=True,\n",
    ")\n",
    "ubix_module.optimize_ubix_parameters(\n",
    "    optimization_predictor,\n",
    "    predict_set=\"val\",\n",
    "    predictions_postfix=predictions_postfix,\n",
    ")"
   ]
  },
  {
   "cell_type": "markdown",
   "metadata": {},
   "source": [
    "Optimized parameters can be saved as follows:"
   ]
  },
  {
   "cell_type": "code",
   "execution_count": null,
   "metadata": {},
   "outputs": [],
   "source": [
    "ubix_module.save_ubix_parameters(f\"./results/models/{model_name}/ubix_params_custom.p\")"
   ]
  },
  {
   "cell_type": "code",
   "execution_count": null,
   "metadata": {},
   "outputs": [],
   "source": []
  }
 ],
 "metadata": {
  "kernelspec": {
   "display_name": "Python 3 (ipykernel)",
   "language": "python",
   "name": "python3"
  },
  "language_info": {
   "codemirror_mode": {
    "name": "ipython",
    "version": 3
   },
   "file_extension": ".py",
   "mimetype": "text/x-python",
   "name": "python",
   "nbconvert_exporter": "python",
   "pygments_lexer": "ipython3",
   "version": "3.9.19"
  }
 },
 "nbformat": 4,
 "nbformat_minor": 4
}
